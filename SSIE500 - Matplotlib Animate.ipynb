{
 "cells": [
  {
   "cell_type": "markdown",
   "metadata": {},
   "source": [
    "# Animation with Matplotlib\n",
    "## Project Team\n",
    "* Roman Kostner\n",
    "* Duxiao Hao\n",
    "* Christian Lemp\n",
    "\n",
    "## References\n",
    "\n",
    "* [Animations with Matplotlib - Parul Pandey](https://towardsdatascience.com/animations-with-matplotlib-d96375c5442c)\n",
    "* https://mathworld.wolfram.com/ParametricEquations.html\n",
    "* https://stackoverflow.com/a/51528612\n",
    "* https://matplotlib.org/api/_as_gen/matplotlib.animation.FuncAnimation.html#matplotlib-animation-funcanimation"
   ]
  },
  {
   "cell_type": "code",
   "execution_count": 1,
   "metadata": {},
   "outputs": [],
   "source": [
    "import numpy as np\n",
    "from matplotlib import pyplot as plt\n",
    "from matplotlib.animation import FuncAnimation\n",
    "\n",
    "plt.style.use('seaborn-pastel')"
   ]
  },
  {
   "cell_type": "code",
   "execution_count": 2,
   "metadata": {},
   "outputs": [
    {
     "data": {
      "image/png": "[encoded data removed]",
      "text/plain": [
       "<Figure size 432x288 with 1 Axes>"
      ]
     },
     "metadata": {
      "needs_background": "light"
     },
     "output_type": "display_data"
    }
   ],
   "source": [
    "# Create an empty canvas,then set its dimensions\n",
    "fig = plt.figure()\n",
    "ax = plt.axes(xlim=(0,4), ylim=(-2,2))\n",
    "# Then create an empty line object\n",
    "line, = ax.plot([], [], lw=3)\n",
    "# The line object will be populated with data later."
   ]
  },
  {
   "cell_type": "code",
   "execution_count": 3,
   "metadata": {},
   "outputs": [],
   "source": [
    "# Initialize your animation.\n",
    "def init():\n",
    "    line.set_data([],[])\n",
    "    return line,\n",
    "\n",
    "# Design visualization\n",
    "def animate(moment):\n",
    "    # \n",
    "    # and creates a sine wave(or any other animation) \n",
    "    # which a shift depending upon the value of i. \n",
    "#     x = np.linspace(0,4,1000)\n",
    "#     y = np.sin(2 * np.pi * (x - 0.01 * moment))\n",
    "    theta = np.linspace(0, 2 * np.pi, 100)\n",
    "    # Here is your update logic, \n",
    "    # ie, what happens each \"moment\" in the simulation.\n",
    "    # Update the radius\n",
    "    radius = np.sqrt(np.abs(np.sin(0.1 * moment)))\n",
    "    # Set x, y\n",
    "    x = radius * np.cos(theta) + 1\n",
    "    y = radius * np.sin(theta)\n",
    "    # Add data to the line\n",
    "    # About the data structure:\n",
    "    # ax.plot() is stored in a variable named line above.\n",
    "    # Initialized as ax.plot([], [], lw=3)\n",
    "    # Each \"moment\" update in the simulation will change x, y\n",
    "    # And the line will animate.\n",
    "    line.set_data(x, y)\n",
    "    \n",
    "    return line,"
   ]
  },
  {
   "cell_type": "code",
   "execution_count": 7,
   "metadata": {},
   "outputs": [],
   "source": [
    "anim = FuncAnimation(fig, animate, init_func=init,\n",
    "                    frames=200, interval=1, blit=True)"
   ]
  },
  {
   "cell_type": "code",
   "execution_count": 8,
   "metadata": {},
   "outputs": [],
   "source": [
    "anim.save('sin.gif',writer='imagemagick') "
   ]
  },
  {
   "cell_type": "markdown",
   "metadata": {},
   "source": [
    "# Display animation"
   ]
  },
  {
   "cell_type": "markdown",
   "metadata": {},
   "source": [
    "<!-- ![ChessUrl](https://upload.wikimedia.org/wikipedia/commons/7/71/ChessPawnSpecialMoves.gif \"chess -->\n",
    "![Play the moments](sin.gif \"sin\")"
   ]
  }
 ],
 "metadata": {
  "kernelspec": {
   "display_name": "cmplxty",
   "language": "python",
   "name": "cmplxty"
  },
  "language_info": {
   "codemirror_mode": {
    "name": "ipython",
    "version": 3
   },
   "file_extension": ".py",
   "mimetype": "text/x-python",
   "name": "python",
   "nbconvert_exporter": "python",
   "pygments_lexer": "ipython3",
   "version": "3.8.0"
  }
 },
 "nbformat": 4,
 "nbformat_minor": 4
}
